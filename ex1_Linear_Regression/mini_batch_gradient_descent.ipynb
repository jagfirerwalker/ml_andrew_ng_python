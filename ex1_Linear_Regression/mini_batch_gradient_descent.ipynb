{
 "metadata": {
  "language_info": {
   "codemirror_mode": {
    "name": "ipython",
    "version": 3
   },
   "file_extension": ".py",
   "mimetype": "text/x-python",
   "name": "python",
   "nbconvert_exporter": "python",
   "pygments_lexer": "ipython3",
   "version": "3.7.8-final"
  },
  "orig_nbformat": 2,
  "kernelspec": {
   "name": "python3",
   "display_name": "Python 3.7.8 64-bit",
   "metadata": {
    "interpreter": {
     "hash": "57baa5815c940fdaff4d14510622de9616cae602444507ba5d0b6727c008cbd6"
    }
   }
  }
 },
 "nbformat": 4,
 "nbformat_minor": 2,
 "cells": [
  {
   "source": [
    "# ==================== Mini-Batch Gradient Descent ================================="
   ],
   "cell_type": "markdown",
   "metadata": {}
  },
  {
   "cell_type": "code",
   "execution_count": 1,
   "metadata": {},
   "outputs": [],
   "source": [
    "# used for manipulating directory paths\n",
    "import os\n",
    "\n",
    "# Scientific and vector computation for python\n",
    "import numpy as np\n",
    "\n",
    "# Plotting library\n",
    "from matplotlib import pyplot\n",
    "from mpl_toolkits.mplot3d import Axes3D  # needed to plot 3-D surfaces\n",
    "\n",
    "# tells matplotlib to embed plots within the notebook\n",
    "%matplotlib inline"
   ]
  },
  {
   "source": [
    "The file Data/ex1data1.txt contains the dataset for our linear regression problem. The first column is the population of a city (in 10,000s) and the second column is the profit of a food truck in that city (in $10,000s). A negative value for profit indicates a loss."
   ],
   "cell_type": "markdown",
   "metadata": {}
  },
  {
   "cell_type": "code",
   "execution_count": 57,
   "metadata": {},
   "outputs": [],
   "source": [
    "# Read comma separated data\n",
    "data = np.loadtxt(os.path.join('Data', 'ex1data1.txt'), delimiter=',')\n",
    "\n",
    "X = data[:, :-1] # everything besides that last column\n",
    "y = data[:, -1].reshape((-1, 1)) # everything from the last column\n",
    "\n",
    "m = y.size  # number of training examples\n",
    "\n",
    "X = np.concatenate([np.ones((data.shape[0], 1)), X], axis=1)\n",
    "\n",
    "\n",
    "# ==== Alternative ====\n",
    "# data = np.hstack((np.ones((data.shape[0], 1)), data)) \n",
    "# X = data[:, :-1] \n",
    "# y = data[:, -1].reshape((-1, 1)) \n",
    "\n",
    "  \n",
    "\n",
    "\n",
    "\n"
   ]
  },
  {
   "cell_type": "code",
   "execution_count": 58,
   "metadata": {},
   "outputs": [],
   "source": [
    "# linear regression using \"mini-batch\" gradient descent \n",
    "# function to compute hypothesis / predictions \n",
    "def hypothesis(X, theta): \n",
    "\treturn np.dot(X, theta) \n",
    "\n",
    "# function to compute gradient of error function w.r.t. theta \n",
    "def gradient(X, y, theta): \n",
    "\th = hypothesis(X, theta) \n",
    "\tgrad = np.dot(X.transpose(), (h - y)) \n",
    "\treturn grad \n",
    "\n",
    "# function to compute the error for current values of theta \n",
    "def cost(X, y, theta): \n",
    "\th = hypothesis(X, theta) \n",
    "\tJ = np.dot((h - y).transpose(), (h - y)) \n",
    "\tJ /= 2\n",
    "\treturn J[0] \n",
    "\n",
    "# function to create a list containing mini-batches \n",
    "def create_mini_batches(X, y, batch_size): \n",
    "\tmini_batches = [] \n",
    "\tdata = np.hstack((X, y)) \n",
    "\tnp.random.shuffle(data) \n",
    "\tn_minibatches = data.shape[0] // batch_size \n",
    "\ti = 0\n",
    "\n",
    "\tfor i in range(n_minibatches + 1): \n",
    "\t\tmini_batch = data[i * batch_size:(i + 1)*batch_size, :] \n",
    "\t\tX_mini = mini_batch[:, :-1] \n",
    "\t\tY_mini = mini_batch[:, -1].reshape((-1, 1)) \n",
    "\t\tmini_batches.append((X_mini, Y_mini)) \n",
    "\tif data.shape[0] % batch_size != 0: \n",
    "\t\tmini_batch = data[i * batch_size:data.shape[0]] \n",
    "\t\tX_mini = mini_batch[:, :-1] \n",
    "\t\tY_mini = mini_batch[:, -1].reshape((-1, 1)) \n",
    "\t\tmini_batches.append((X_mini, Y_mini)) \n",
    "\treturn mini_batches \n",
    "\n",
    "# function to perform mini-batch gradient descent \n",
    "def gradientDescent(X, y, learning_rate = 0.001, batch_size = 32): \n",
    "\ttheta = np.zeros((X.shape[1], 1)) \n",
    "\terror_list = [] \n",
    "\tmax_iters = 3\n",
    "\tfor itr in range(max_iters): \n",
    "\t\tmini_batches = create_mini_batches(X, y, batch_size) \n",
    "\t\tfor mini_batch in mini_batches: \n",
    "\t\t\tX_mini, y_mini = mini_batch \n",
    "\t\t\ttheta = theta - learning_rate * gradient(X_mini, y_mini, theta) \n",
    "\t\t\tJ.append(cost(X_mini, y_mini, theta)) \n",
    "\n",
    "\treturn theta, J \n"
   ]
  },
  {
   "cell_type": "code",
   "execution_count": 32,
   "metadata": {},
   "outputs": [
    {
     "output_type": "stream",
     "name": "stdout",
     "text": [
      "Bias =  [-1.21665391]\nCoefficients =  [[-13.86182457]]\n"
     ]
    }
   ],
   "source": [
    "theta, error_list = gradientDescent(X, y)  \n",
    "print(\"Bias = \", theta[0]) \n",
    "print(\"Coefficients = \", theta[1:]) "
   ]
  },
  {
   "cell_type": "code",
   "execution_count": null,
   "metadata": {},
   "outputs": [],
   "source": []
  }
 ]
}